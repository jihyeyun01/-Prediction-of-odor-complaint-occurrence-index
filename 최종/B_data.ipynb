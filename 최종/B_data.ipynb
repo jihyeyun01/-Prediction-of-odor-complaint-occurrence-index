{
 "cells": [
  {
   "cell_type": "code",
   "execution_count": 2,
   "id": "336f6d29-eb81-4dbf-a098-787fa777fce0",
   "metadata": {},
   "outputs": [],
   "source": [
    "import pandas as pd\n",
    "import numpy as np"
   ]
  },
  {
   "cell_type": "code",
   "execution_count": 13,
   "id": "17bbd34c-6215-4743-a9a9-eee4bfd524b7",
   "metadata": {},
   "outputs": [
    {
     "name": "stdout",
     "output_type": "stream",
     "text": [
      "<class 'pandas.core.frame.DataFrame'>\n",
      "RangeIndex: 8759 entries, 0 to 8758\n",
      "Data columns (total 15 columns):\n",
      " #   Column         Non-Null Count  Dtype  \n",
      "---  ------         --------------  -----  \n",
      " 0   지역             8759 non-null   object \n",
      " 1   일시             8759 non-null   object \n",
      " 2   기온(°C)         8396 non-null   float64\n",
      " 3   습도(%)          8396 non-null   float64\n",
      " 4   풍속(m/s)        8396 non-null   float64\n",
      " 5   풍향(360°)       8396 non-null   float64\n",
      " 6   일사량(w/㎡)       8396 non-null   float64\n",
      " 7   PM10(㎍/㎥)      8283 non-null   float64\n",
      " 8   PM2.5(㎍/㎥)     8035 non-null   float64\n",
      " 9   오존(ppm)        8325 non-null   float64\n",
      " 10  증기압(hPa)       8759 non-null   float64\n",
      " 11  현지기압(hPa)      8759 non-null   float64\n",
      " 12  지면온도(°C)       8759 non-null   float64\n",
      " 13  30cm 지중온도(°C)  8759 non-null   float64\n",
      " 14  강수량(mm)        8759 non-null   float64\n",
      "dtypes: float64(13), object(2)\n",
      "memory usage: 1.0+ MB\n"
     ]
    }
   ],
   "source": [
    "B_air = pd.read_csv(\"B측정소_기상자료(1hr)_2021년.csv\", encoding='euc-kr')\n",
    "B_air.info()"
   ]
  },
  {
   "cell_type": "code",
   "execution_count": 14,
   "id": "45ac206e-2704-4c7f-affe-7cefd17911ce",
   "metadata": {},
   "outputs": [
    {
     "name": "stdout",
     "output_type": "stream",
     "text": [
      "<class 'pandas.core.frame.DataFrame'>\n",
      "RangeIndex: 365 entries, 0 to 364\n",
      "Data columns (total 11 columns):\n",
      " #   Column  Non-Null Count  Dtype \n",
      "---  ------  --------------  ----- \n",
      " 0   지역      365 non-null    object\n",
      " 1   항목      365 non-null    object\n",
      " 2   날짜      365 non-null    int64 \n",
      " 3   3       365 non-null    int64 \n",
      " 4   6       365 non-null    int64 \n",
      " 5   9       365 non-null    int64 \n",
      " 6   12      365 non-null    int64 \n",
      " 7   15      365 non-null    int64 \n",
      " 8   18      365 non-null    int64 \n",
      " 9   21      365 non-null    int64 \n",
      " 10  24      365 non-null    int64 \n",
      "dtypes: int64(9), object(2)\n",
      "memory usage: 31.5+ KB\n"
     ]
    }
   ],
   "source": [
    "B_air_diff= pd.read_csv(\"B_대기확산지수(3hr)_2021년.csv\", encoding='euc-kr')\n",
    "B_air_diff.info() "
   ]
  },
  {
   "cell_type": "code",
   "execution_count": 9,
   "id": "fde49fb0-02d0-485b-9bd8-652da2a3d630",
   "metadata": {},
   "outputs": [
    {
     "name": "stdout",
     "output_type": "stream",
     "text": [
      "<class 'pandas.core.frame.DataFrame'>\n",
      "RangeIndex: 130 entries, 0 to 129\n",
      "Data columns (total 5 columns):\n",
      " #   Column  Non-Null Count  Dtype \n",
      "---  ------  --------------  ----- \n",
      " 0   NO      130 non-null    int64 \n",
      " 1   발생일자    130 non-null    object\n",
      " 2   시간      130 non-null    object\n",
      " 3   주소      130 non-null    object\n",
      " 4   발생건수    130 non-null    int64 \n",
      "dtypes: int64(2), object(3)\n",
      "memory usage: 5.2+ KB\n"
     ]
    }
   ],
   "source": [
    "B_area = pd.read_csv(\"B관측소_시간별_민원발생건수.csv\", encoding='euc-kr')\n",
    "B_area.info()"
   ]
  },
  {
   "cell_type": "code",
   "execution_count": 15,
   "id": "da8dde34-8d04-4f2f-a8ad-af40dc519e8b",
   "metadata": {},
   "outputs": [],
   "source": [
    "B_area = B_area.drop(['NO','주소'],axis=1)\n",
    "B_area_test = B_area.dropna()\n",
    "B_area_test['발생일자'] = pd.to_datetime(B_area_test['발생일자'], infer_datetime_format=True)\n",
    "B_area_test['날짜']= B_area_test['발생일자'].dt.strftime(\"%Y%m%d\")\n",
    "B_area_test = B_area_test.drop(['발생일자'], axis = 1)\n",
    "B_area_test['날짜'] = B_area_test['날짜'].astype(int)"
   ]
  },
  {
   "cell_type": "code",
   "execution_count": 16,
   "id": "4240a3e2-88a2-4a87-a894-b7c5bf244f94",
   "metadata": {},
   "outputs": [
    {
     "name": "stderr",
     "output_type": "stream",
     "text": [
      "/tmp/ipykernel_79239/2718414414.py:4: FutureWarning: Dropping of nuisance columns in DataFrame reductions (with 'numeric_only=None') is deprecated; in a future version this will raise TypeError.  Select only valid columns before calling the reduction.\n",
      "  B_air_diff['대기확산지수']  = B_air_diff.mean(axis = 'columns')\n"
     ]
    }
   ],
   "source": [
    "B_air_diff = B_air_diff.iloc[:, 0:11]\n",
    "B_air_diff['날짜'] = pd.to_datetime(B_air_diff['날짜'], format = '%Y%m%d')\n",
    "B_air_diff['날짜'] = B_air_diff['날짜'].dt.strftime(\"%Y%m%d\")\n",
    "B_air_diff['대기확산지수']  = B_air_diff.mean(axis = 'columns')\n",
    "B_air_diff_test = B_air_diff.drop(['3','6','9','12','15','18','21','24','지역','항목'], axis = 1)\n",
    "B_air_diff_test['날짜'] = B_air_diff_test['날짜'].astype(int)"
   ]
  },
  {
   "cell_type": "code",
   "execution_count": 17,
   "id": "157f1f93-9482-475b-af66-d1df20b0465e",
   "metadata": {},
   "outputs": [
    {
     "data": {
      "text/html": [
       "<div>\n",
       "<style scoped>\n",
       "    .dataframe tbody tr th:only-of-type {\n",
       "        vertical-align: middle;\n",
       "    }\n",
       "\n",
       "    .dataframe tbody tr th {\n",
       "        vertical-align: top;\n",
       "    }\n",
       "\n",
       "    .dataframe thead th {\n",
       "        text-align: right;\n",
       "    }\n",
       "</style>\n",
       "<table border=\"1\" class=\"dataframe\">\n",
       "  <thead>\n",
       "    <tr style=\"text-align: right;\">\n",
       "      <th></th>\n",
       "      <th>날짜</th>\n",
       "      <th>대기확산지수</th>\n",
       "    </tr>\n",
       "  </thead>\n",
       "  <tbody>\n",
       "    <tr>\n",
       "      <th>0</th>\n",
       "      <td>20210101</td>\n",
       "      <td>50.000</td>\n",
       "    </tr>\n",
       "    <tr>\n",
       "      <th>1</th>\n",
       "      <td>20210102</td>\n",
       "      <td>46.875</td>\n",
       "    </tr>\n",
       "    <tr>\n",
       "      <th>2</th>\n",
       "      <td>20210103</td>\n",
       "      <td>50.000</td>\n",
       "    </tr>\n",
       "    <tr>\n",
       "      <th>3</th>\n",
       "      <td>20210104</td>\n",
       "      <td>56.250</td>\n",
       "    </tr>\n",
       "    <tr>\n",
       "      <th>4</th>\n",
       "      <td>20210105</td>\n",
       "      <td>50.000</td>\n",
       "    </tr>\n",
       "    <tr>\n",
       "      <th>...</th>\n",
       "      <td>...</td>\n",
       "      <td>...</td>\n",
       "    </tr>\n",
       "    <tr>\n",
       "      <th>360</th>\n",
       "      <td>20211227</td>\n",
       "      <td>53.125</td>\n",
       "    </tr>\n",
       "    <tr>\n",
       "      <th>361</th>\n",
       "      <td>20211228</td>\n",
       "      <td>87.500</td>\n",
       "    </tr>\n",
       "    <tr>\n",
       "      <th>362</th>\n",
       "      <td>20211229</td>\n",
       "      <td>50.000</td>\n",
       "    </tr>\n",
       "    <tr>\n",
       "      <th>363</th>\n",
       "      <td>20211230</td>\n",
       "      <td>43.750</td>\n",
       "    </tr>\n",
       "    <tr>\n",
       "      <th>364</th>\n",
       "      <td>20211231</td>\n",
       "      <td>43.750</td>\n",
       "    </tr>\n",
       "  </tbody>\n",
       "</table>\n",
       "<p>365 rows × 2 columns</p>\n",
       "</div>"
      ],
      "text/plain": [
       "           날짜  대기확산지수\n",
       "0    20210101  50.000\n",
       "1    20210102  46.875\n",
       "2    20210103  50.000\n",
       "3    20210104  56.250\n",
       "4    20210105  50.000\n",
       "..        ...     ...\n",
       "360  20211227  53.125\n",
       "361  20211228  87.500\n",
       "362  20211229  50.000\n",
       "363  20211230  43.750\n",
       "364  20211231  43.750\n",
       "\n",
       "[365 rows x 2 columns]"
      ]
     },
     "execution_count": 17,
     "metadata": {},
     "output_type": "execute_result"
    }
   ],
   "source": [
    "B_air_diff_test"
   ]
  },
  {
   "cell_type": "code",
   "execution_count": null,
   "id": "5a5b3922-4f2c-4428-874a-6fa35e9cbd8e",
   "metadata": {},
   "outputs": [],
   "source": []
  }
 ],
 "metadata": {
  "kernelspec": {
   "display_name": "Python 3 (ipykernel)",
   "language": "python",
   "name": "python3"
  },
  "language_info": {
   "codemirror_mode": {
    "name": "ipython",
    "version": 3
   },
   "file_extension": ".py",
   "mimetype": "text/x-python",
   "name": "python",
   "nbconvert_exporter": "python",
   "pygments_lexer": "ipython3",
   "version": "3.9.13"
  }
 },
 "nbformat": 4,
 "nbformat_minor": 5
}
