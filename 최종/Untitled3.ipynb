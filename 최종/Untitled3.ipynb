{
 "cells": [
  {
   "cell_type": "code",
   "execution_count": 7,
   "id": "dba90a1e-7895-4ba8-85e7-3bd75cb4ef80",
   "metadata": {},
   "outputs": [],
   "source": [
    "from sklearn.metrics import accuracy_score, recall_score, precision_score, f1_score\n",
    "from sklearn.model_selection import train_test_split\n",
    "from sklearn.metrics import confusion_matrix\n",
    "from sklearn.metrics import roc_auc_score\n",
    "from sklearn.metrics import classification_report\n",
    "from sklearn.datasets import make_multilabel_classification\n",
    "from imblearn.over_sampling import SMOTE\n",
    "from xgboost import XGBClassifier\n",
    "import xgboost as xgb\n",
    "import joblib\n",
    "from sklearn import preprocessing\n",
    "from sklearn.preprocessing import LabelEncoder\n",
    "import pandas as pd\n",
    "import numpy as np\n",
    "import pickle\n",
    "import matplotlib.pyplot as plt\n",
    "import matplotlib as mpl\n",
    "from datetime import datetime\n",
    "import warnings\n",
    "warnings.filterwarnings(\"ignore\") \n",
    "plt.rc('font', family='NanumGothic') \n",
    "#print (plt.rcParams['font.family'] )"
   ]
  },
  {
   "cell_type": "code",
   "execution_count": 13,
   "id": "9945d053-abfd-4b25-a835-b5469ec40852",
   "metadata": {},
   "outputs": [
    {
     "name": "stdin",
     "output_type": "stream",
     "text": [
      "ex. 20211205 *12월25일 이전만 입력 :  20210101\n"
     ]
    },
    {
     "name": "stdout",
     "output_type": "stream",
     "text": [
      "SMOTE 적용 전 Train용 피처/레이블 데이터 세트:  (17204, 21) (17204, 1)\n",
      "SMOTE 적용 후 Train 피처/레이블 데이터 세트:  (34084, 21) (34084, 1)\n",
      "SMOTE 적용 후 Labels 값 분포: \n",
      " 발생건수\n",
      "0       17042\n",
      "1       17042\n",
      "dtype: int64\n",
      "Model accuracy score with 10 decision-trees : 1.0000\n",
      "2021-01-01 의 민원발생 여부는 0 입니다.\n",
      "2021-01-02 의 민원발생 여부는 0 입니다.\n",
      "2021-01-03 의 민원발생 여부는 0 입니다.\n",
      "2021-01-04 의 민원발생 여부는 0 입니다.\n",
      "2021-01-05 의 민원발생 여부는 0 입니다.\n",
      "2021-01-06 의 민원발생 여부는 0 입니다.\n",
      "2021-01-07 의 민원발생 여부는 0 입니다.\n"
     ]
    }
   ],
   "source": [
    "df_B = pd.read_csv('시간별_발생건수_B.csv')\n",
    "df_C = pd.read_csv('시간별_발생건수_C.csv')\n",
    "df_BC = pd.concat([df_B, df_C])\n",
    "\n",
    "\n",
    "df_BC = df_BC.drop(['Unnamed: 0','월', '일', '시', '지역'],axis=1)\n",
    "df_BC = df_BC.reset_index(drop=True)\n",
    "\n",
    "\n",
    "# datetime으로 변환\n",
    "df_BC['일시']= pd.to_datetime(df_BC['일시'])\n",
    "df_BC['DATE'] = df_BC['일시'].dt.strftime('%Y-%m-%d')\n",
    "\n",
    "df_BC = df_BC.drop('일시', axis=1)\n",
    "user = input('ex. 20211205 *12월25일 이전만 입력 : ')\n",
    "\n",
    "year = user[:4]\n",
    "month = user[4:6]\n",
    "days = user[6:]\n",
    "\n",
    "date = year + '-' + month + '-' + days\n",
    "date = pd.date_range(user, periods=7, freq='d')\n",
    "date = [i.strftime('%Y-%m-%d') for i in date]\n",
    "\n",
    "# target 0,1 변경\n",
    "df_BC['발생건수'] = [1 if i>0 else 0 for i in df_BC['발생건수']]\n",
    "\n",
    "# train\n",
    "train = df_BC.loc[~df_BC['DATE'].isin(date)]\n",
    "train = train.reset_index(drop=True)\n",
    "\n",
    "# test\n",
    "test = df_BC.loc[df_BC['DATE'].isin(date)]\n",
    "test_list = []\n",
    "\n",
    "for _,row in test.groupby('DATE'):\n",
    "    row = row.reset_index(drop=True)\n",
    "    row = row.sample(n=1)\n",
    "    test_list.append(row)\n",
    "    \n",
    "test = pd.concat(test_list)\n",
    "test = test.reset_index(drop=True)\n",
    "\n",
    "\n",
    "X_train = train.drop(['DATE', '발생건수'], axis=1)\n",
    "Y_train = train[['발생건수']]\n",
    "\n",
    "X_test = test.drop(['DATE', '발생건수'], axis=1)\n",
    "Y_test = test[['발생건수']]\n",
    "\n",
    "def onehot_encoder(train, test, columns):\n",
    "    target_list = set(train[columns])\n",
    "    \n",
    "    for i in target_list:\n",
    "        train[f'{columns}_{i}'] = train[columns] == i\n",
    "        test[f'{columns}_{i}'] = test[columns] == i\n",
    "        train[f'{columns}_{i}'] = train[f'{columns}_{i}'].astype('int')\n",
    "        test[f'{columns}_{i}'] = test[f'{columns}_{i}'].astype('int')\n",
    "    \n",
    "    train = train.drop(columns, axis=1)\n",
    "    test = test.drop(columns, axis=1)\n",
    "    \n",
    "    return train, test\n",
    "\n",
    "\n",
    "# 방향 원-핫 원코딩\n",
    "X_train,X_test = onehot_encoder(X_train,X_test,'방향')\n",
    "# 정규화 \n",
    "from sklearn.preprocessing import RobustScaler\n",
    "\n",
    "scaler = RobustScaler()\n",
    "X_train = scaler.fit_transform(X_train)\n",
    "X_test = scaler.transform(X_test)\n",
    "# 스모트\n",
    "smote = SMOTE(random_state=0)\n",
    "X_train_over, Y_train_over = smote.fit_resample(X_train, Y_train) \n",
    "\n",
    "print('SMOTE 적용 전 Train용 피처/레이블 데이터 세트: ', X_train.shape, Y_train.shape)\n",
    "print('SMOTE 적용 후 Train 피처/레이블 데이터 세트: ', X_train_over.shape, Y_train_over.shape)\n",
    "print('SMOTE 적용 후 Labels 값 분포: \\n', Y_train_over.value_counts())\n",
    "# modeling\n",
    "from sklearn.ensemble import RandomForestClassifier\n",
    "\n",
    "rfc = RandomForestClassifier(random_state=0)\n",
    "rfc.fit(X_train_over, Y_train_over)\n",
    "y_pred = rfc.predict(X_test)\n",
    "from sklearn.metrics import accuracy_score\n",
    "print('Model accuracy score with 10 decision-trees : {0:0.4f}'. format(accuracy_score(Y_test, y_pred)))\n",
    "out = y_pred\n",
    "out = y_pred\n",
    "for i in range(0,7,1):\n",
    "    print(date[i],'의 민원발생 여부는', out[i],'입니다.')"
   ]
  },
  {
   "cell_type": "code",
   "execution_count": null,
   "id": "51a3c521-63b7-45e6-996d-e777474cb0a4",
   "metadata": {},
   "outputs": [],
   "source": []
  },
  {
   "cell_type": "code",
   "execution_count": 47,
   "id": "ff8212aa-0c24-44c6-878b-ee9ded2f87a2",
   "metadata": {},
   "outputs": [
    {
     "name": "stderr",
     "output_type": "stream",
     "text": [
      "/tmp/ipykernel_92827/1333567772.py:5: DataConversionWarning: A column-vector y was passed when a 1d array was expected. Please change the shape of y to (n_samples,), for example using ravel().\n",
      "  rfc.fit(X_train_over, Y_train_over)\n"
     ]
    }
   ],
   "source": [
    "# modeling\n",
    "from sklearn.ensemble import RandomForestClassifier\n",
    "\n",
    "rfc = RandomForestClassifier(random_state=0)\n",
    "rfc.fit(X_train_over, Y_train_over)\n",
    "y_pred = rfc.predict(X_test)"
   ]
  },
  {
   "cell_type": "code",
   "execution_count": 48,
   "id": "2298acca-ac00-43e3-957e-0cd6ea7afebc",
   "metadata": {},
   "outputs": [
    {
     "name": "stdout",
     "output_type": "stream",
     "text": [
      "Model accuracy score with 10 decision-trees : 0.9965\n"
     ]
    }
   ],
   "source": [
    "from sklearn.metrics import accuracy_score\n",
    "print('Model accuracy score with 10 decision-trees : {0:0.4f}'. format(accuracy_score(Y_test, y_pred)))"
   ]
  },
  {
   "cell_type": "code",
   "execution_count": 34,
   "id": "8247502c-3723-4bb2-bcfd-d4362cab2642",
   "metadata": {},
   "outputs": [
    {
     "name": "stderr",
     "output_type": "stream",
     "text": [
      "/tmp/ipykernel_92827/2551999779.py:3: DataConversionWarning: A column-vector y was passed when a 1d array was expected. Please change the shape of y to (n_samples,), for example using ravel().\n",
      "  rfc_100.fit(X_train, Y_train)\n"
     ]
    },
    {
     "name": "stdout",
     "output_type": "stream",
     "text": [
      "Model accuracy score with 100 decision-trees : 0.9646\n"
     ]
    }
   ],
   "source": [
    "rfc_100 = RandomForestClassifier(n_estimators=100, random_state=0)\n",
    "# fit the model to the training set\n",
    "rfc_100.fit(X_train, Y_train)\n",
    "y_pred_100 = rfc_100.predict(X_test)\n",
    "print('Model accuracy score with 100 decision-trees : {0:0.4f}'. format(accuracy_score(Y_test, y_pred_100)))"
   ]
  },
  {
   "cell_type": "code",
   "execution_count": 35,
   "id": "c961c57f-7459-42ed-9d18-a0cad6b9ce61",
   "metadata": {},
   "outputs": [
    {
     "ename": "AttributeError",
     "evalue": "'numpy.ndarray' object has no attribute 'columns'",
     "output_type": "error",
     "traceback": [
      "\u001b[0;31m---------------------------------------------------------------------------\u001b[0m",
      "\u001b[0;31mAttributeError\u001b[0m                            Traceback (most recent call last)",
      "\u001b[0;32m/tmp/ipykernel_92827/3115167766.py\u001b[0m in \u001b[0;36m<module>\u001b[0;34m\u001b[0m\n\u001b[1;32m      4\u001b[0m \u001b[0;34m\u001b[0m\u001b[0m\n\u001b[1;32m      5\u001b[0m \u001b[0mftr_importances_values\u001b[0m \u001b[0;34m=\u001b[0m \u001b[0mrfc\u001b[0m\u001b[0;34m.\u001b[0m\u001b[0mfeature_importances_\u001b[0m\u001b[0;34m\u001b[0m\u001b[0;34m\u001b[0m\u001b[0m\n\u001b[0;32m----> 6\u001b[0;31m \u001b[0mftr_importances\u001b[0m \u001b[0;34m=\u001b[0m \u001b[0mpd\u001b[0m\u001b[0;34m.\u001b[0m\u001b[0mSeries\u001b[0m\u001b[0;34m(\u001b[0m\u001b[0mftr_importances_values\u001b[0m\u001b[0;34m,\u001b[0m \u001b[0mindex\u001b[0m \u001b[0;34m=\u001b[0m \u001b[0mX_train\u001b[0m\u001b[0;34m.\u001b[0m\u001b[0mcolumns\u001b[0m\u001b[0;34m)\u001b[0m\u001b[0;34m\u001b[0m\u001b[0;34m\u001b[0m\u001b[0m\n\u001b[0m\u001b[1;32m      7\u001b[0m \u001b[0mftr_top20\u001b[0m \u001b[0;34m=\u001b[0m \u001b[0mftr_importances\u001b[0m\u001b[0;34m.\u001b[0m\u001b[0msort_values\u001b[0m\u001b[0;34m(\u001b[0m\u001b[0mascending\u001b[0m\u001b[0;34m=\u001b[0m\u001b[0;32mFalse\u001b[0m\u001b[0;34m)\u001b[0m\u001b[0;34m[\u001b[0m\u001b[0;34m:\u001b[0m\u001b[0;36m20\u001b[0m\u001b[0;34m]\u001b[0m\u001b[0;34m\u001b[0m\u001b[0;34m\u001b[0m\u001b[0m\n\u001b[1;32m      8\u001b[0m \u001b[0;34m\u001b[0m\u001b[0m\n",
      "\u001b[0;31mAttributeError\u001b[0m: 'numpy.ndarray' object has no attribute 'columns'"
     ]
    }
   ],
   "source": [
    "import matplotlib.pyplot as plt\n",
    "import seaborn as sns\n",
    "%matplotlib inline\n",
    "\n",
    "ftr_importances_values = rfc.feature_importances_\n",
    "ftr_importances = pd.Series(ftr_importances_values, index = X_train.columns)\n",
    "ftr_top20 = ftr_importances.sort_values(ascending=False)[:20]\n",
    "\n",
    "plt.figure(figsize=(8,6))\n",
    "plt.title('Feature Importances')\n",
    "sns.barplot(x=ftr_top20, y=ftr_top20.index)\n",
    "plt.show()"
   ]
  },
  {
   "cell_type": "code",
   "execution_count": 263,
   "id": "be545242-f2b3-4a8e-88e0-a25e985d5138",
   "metadata": {},
   "outputs": [],
   "source": [
    "target_df = target_df.drop(['일시', 'DATE'], axis=1)"
   ]
  }
 ],
 "metadata": {
  "kernelspec": {
   "display_name": "Python 3 (ipykernel)",
   "language": "python",
   "name": "python3"
  },
  "language_info": {
   "codemirror_mode": {
    "name": "ipython",
    "version": 3
   },
   "file_extension": ".py",
   "mimetype": "text/x-python",
   "name": "python",
   "nbconvert_exporter": "python",
   "pygments_lexer": "ipython3",
   "version": "3.9.13"
  }
 },
 "nbformat": 4,
 "nbformat_minor": 5
}
