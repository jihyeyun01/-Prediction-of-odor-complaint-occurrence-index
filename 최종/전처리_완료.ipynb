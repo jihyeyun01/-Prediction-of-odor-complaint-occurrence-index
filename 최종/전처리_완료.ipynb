{
 "cells": [
  {
   "cell_type": "code",
   "execution_count": 1,
   "id": "5f02f740-9f82-475c-a11c-fb6bb25cc4d0",
   "metadata": {},
   "outputs": [],
   "source": [
    "import pandas as pd\n",
    "import numpy as np\n",
    "import seaborn as sns"
   ]
  },
  {
   "cell_type": "code",
   "execution_count": 2,
   "id": "f4768391-3787-46ca-a3c1-e5ff30c6637b",
   "metadata": {},
   "outputs": [
    {
     "name": "stdout",
     "output_type": "stream",
     "text": [
      "['NanumGothic']\n"
     ]
    }
   ],
   "source": [
    "import matplotlib.pyplot as plt\n",
    "\n",
    "plt.rc('font', family='NanumGothic') \n",
    "print (plt.rcParams['font.family'] )"
   ]
  },
  {
   "cell_type": "markdown",
   "id": "487e9cc6-d93f-4d73-9bd9-b0fdae57c52f",
   "metadata": {},
   "source": [
    "# B지역 전처리"
   ]
  },
  {
   "cell_type": "code",
   "execution_count": 3,
   "id": "c0281c0f-c653-40e7-ac78-7c661bc6485c",
   "metadata": {},
   "outputs": [
    {
     "name": "stdout",
     "output_type": "stream",
     "text": [
      "<class 'pandas.core.frame.DataFrame'>\n",
      "RangeIndex: 8759 entries, 0 to 8758\n",
      "Data columns (total 15 columns):\n",
      " #   Column         Non-Null Count  Dtype  \n",
      "---  ------         --------------  -----  \n",
      " 0   지역             8759 non-null   object \n",
      " 1   일시             8759 non-null   object \n",
      " 2   기온(°C)         8396 non-null   float64\n",
      " 3   습도(%)          8396 non-null   float64\n",
      " 4   풍속(m/s)        8396 non-null   float64\n",
      " 5   풍향(360°)       8396 non-null   float64\n",
      " 6   일사량(w/㎡)       8396 non-null   float64\n",
      " 7   PM10(㎍/㎥)      8283 non-null   float64\n",
      " 8   PM2.5(㎍/㎥)     8035 non-null   float64\n",
      " 9   오존(ppm)        8325 non-null   float64\n",
      " 10  증기압(hPa)       8759 non-null   float64\n",
      " 11  현지기압(hPa)      8759 non-null   float64\n",
      " 12  지면온도(°C)       8759 non-null   float64\n",
      " 13  30cm 지중온도(°C)  8759 non-null   float64\n",
      " 14  강수량(mm)        8759 non-null   float64\n",
      "dtypes: float64(13), object(2)\n",
      "memory usage: 1.0+ MB\n"
     ]
    }
   ],
   "source": [
    "B_air = pd.read_csv(\"B측정소_기상자료(1hr)_2021년.csv\", encoding='euc-kr')\n",
    "B_air.info()"
   ]
  },
  {
   "cell_type": "code",
   "execution_count": 4,
   "id": "14aa4d64-aa83-414d-b2bc-69153385aaa8",
   "metadata": {},
   "outputs": [
    {
     "name": "stdout",
     "output_type": "stream",
     "text": [
      "<class 'pandas.core.frame.DataFrame'>\n",
      "RangeIndex: 130 entries, 0 to 129\n",
      "Data columns (total 5 columns):\n",
      " #   Column  Non-Null Count  Dtype \n",
      "---  ------  --------------  ----- \n",
      " 0   NO      130 non-null    int64 \n",
      " 1   발생일자    130 non-null    object\n",
      " 2   시간      130 non-null    object\n",
      " 3   주소      130 non-null    object\n",
      " 4   발생건수    130 non-null    int64 \n",
      "dtypes: int64(2), object(3)\n",
      "memory usage: 5.2+ KB\n"
     ]
    }
   ],
   "source": [
    "B_area = pd.read_csv(\"B관측소_시간별_민원발생건수.csv\", encoding='euc-kr')\n",
    "B_area.info()"
   ]
  },
  {
   "cell_type": "code",
   "execution_count": 5,
   "id": "79294fca-8bf6-49d2-98f7-2041f56839d0",
   "metadata": {},
   "outputs": [],
   "source": [
    "def f(row):\n",
    "    if 0<row['풍향(360°)']<=45:\n",
    "        row['방향'] = '북동풍'\n",
    "    elif 45<row['풍향(360°)']<=90:\n",
    "        row['방향'] = '동풍'\n",
    "    elif 90<row['풍향(360°)']<=135:\n",
    "        row['방향'] = '남동풍'\n",
    "    elif 135<row['풍향(360°)']<=180:\n",
    "        row['방향'] = '남풍'\n",
    "    elif 180<row['풍향(360°)']<=225:\n",
    "        row['방향'] = '남서풍'\n",
    "    elif 225<row['풍향(360°)']<=270:\n",
    "        row['방향'] = '서풍'\n",
    "    elif 270<row['풍향(360°)']<=315:\n",
    "        row['방향'] = '북서풍'\n",
    "    else:\n",
    "        row['방향'] = '북풍'\n",
    "    return row['방향']\n",
    "#train['start_turn'] = train.apply(f, axis=1)\n",
    "#A_air['방향'] = A_air.apply(f, axis=1)"
   ]
  },
  {
   "cell_type": "code",
   "execution_count": 6,
   "id": "d9b3c6db-6394-4057-8544-230a6fc2123a",
   "metadata": {},
   "outputs": [],
   "source": [
    "B_air = B_air.dropna(subset = ['풍향(360°)'])\n",
    "B_air['풍향(360°)'] = B_air['풍향(360°)'].astype(int)\n",
    "B_air['방향'] = B_air.apply(f, axis=1)"
   ]
  },
  {
   "cell_type": "code",
   "execution_count": 7,
   "id": "134cce76-eb22-46a8-96a5-be27ed834d3c",
   "metadata": {},
   "outputs": [
    {
     "data": {
      "text/plain": [
       "방향\n",
       "남동풍     728\n",
       "남서풍     484\n",
       "남풍      779\n",
       "동풍     1628\n",
       "북동풍    1440\n",
       "북서풍     959\n",
       "북풍     1381\n",
       "서풍      997\n",
       "Name: 지역, dtype: int64"
      ]
     },
     "execution_count": 7,
     "metadata": {},
     "output_type": "execute_result"
    }
   ],
   "source": [
    "B_air.groupby('방향')['지역'].count()"
   ]
  },
  {
   "cell_type": "code",
   "execution_count": 8,
   "id": "bd0a5126-4064-41f9-afb5-352c32cda731",
   "metadata": {},
   "outputs": [],
   "source": [
    "B_air['월'] = B_air['일시'].astype(str).str[5:7]\n",
    "B_air['일'] = B_air['일시'].astype(str).str[8:11]\n",
    "B_air['시'] = B_air['일시'].astype(str).str[10:13]"
   ]
  },
  {
   "cell_type": "code",
   "execution_count": 9,
   "id": "bfe610fc-7f18-41d0-b071-1387ab97018c",
   "metadata": {},
   "outputs": [],
   "source": [
    "B_air['시'] = B_air['시'].str.replace(':', '')\n",
    "B_air['시'] = B_air['시'].str.zfill(2)"
   ]
  },
  {
   "cell_type": "code",
   "execution_count": 10,
   "id": "edb0e05c-3bb1-4da8-b44b-c53465ea2b68",
   "metadata": {},
   "outputs": [
    {
     "data": {
      "text/plain": [
       "0      21\n",
       "1      19\n",
       "2      20\n",
       "3      10\n",
       "4      18\n",
       "       ..\n",
       "125    19\n",
       "126    21\n",
       "127    14\n",
       "128    22\n",
       "129    19\n",
       "Name: 시간, Length: 130, dtype: object"
      ]
     },
     "execution_count": 10,
     "metadata": {},
     "output_type": "execute_result"
    }
   ],
   "source": [
    "B_area['시간'].astype(str).str[0:2]"
   ]
  },
  {
   "cell_type": "code",
   "execution_count": 11,
   "id": "d4307338-d303-4a43-a9fe-f4f68fb392cf",
   "metadata": {},
   "outputs": [],
   "source": [
    "B_area['월'] = B_area['발생일자'].astype(str).str[5:7]\n",
    "B_area['일'] = B_area['발생일자'].astype(str).str[8:11]\n",
    "B_area['시'] = B_area['시간'].astype(str).str[0:2]"
   ]
  },
  {
   "cell_type": "code",
   "execution_count": 12,
   "id": "48dfc5db-55d4-42ed-b204-e51f987ff325",
   "metadata": {},
   "outputs": [],
   "source": [
    "B_area['시'] = B_area['시'].str.replace(':', '')"
   ]
  },
  {
   "cell_type": "code",
   "execution_count": 13,
   "id": "90aad182-0cd9-44fc-a88a-fb5e6599596d",
   "metadata": {},
   "outputs": [],
   "source": [
    "B_area['월'] = B_area['월'].astype(int)\n",
    "B_area['일'] = B_area['일'].astype(int)\n",
    "B_area['시'] = B_area['시'].astype(int)"
   ]
  },
  {
   "cell_type": "code",
   "execution_count": 14,
   "id": "61fdd0d9-8850-47f7-9276-036e9b0029e8",
   "metadata": {},
   "outputs": [],
   "source": [
    "B_air['월'] = B_air['월'].astype(int)\n",
    "B_air['일'] = B_air['일'].astype(int)\n",
    "B_air['시'] = B_air['시'].astype(int)"
   ]
  },
  {
   "cell_type": "code",
   "execution_count": 15,
   "id": "e2e6d4e9-c63d-4056-9bda-bb1ec14116e5",
   "metadata": {},
   "outputs": [
    {
     "data": {
      "text/html": [
       "<div>\n",
       "<style scoped>\n",
       "    .dataframe tbody tr th:only-of-type {\n",
       "        vertical-align: middle;\n",
       "    }\n",
       "\n",
       "    .dataframe tbody tr th {\n",
       "        vertical-align: top;\n",
       "    }\n",
       "\n",
       "    .dataframe thead th {\n",
       "        text-align: right;\n",
       "    }\n",
       "</style>\n",
       "<table border=\"1\" class=\"dataframe\">\n",
       "  <thead>\n",
       "    <tr style=\"text-align: right;\">\n",
       "      <th></th>\n",
       "      <th>NO</th>\n",
       "      <th>발생일자</th>\n",
       "      <th>시간</th>\n",
       "      <th>주소</th>\n",
       "      <th>발생건수</th>\n",
       "      <th>월</th>\n",
       "      <th>일</th>\n",
       "      <th>시</th>\n",
       "    </tr>\n",
       "  </thead>\n",
       "  <tbody>\n",
       "    <tr>\n",
       "      <th>0</th>\n",
       "      <td>1</td>\n",
       "      <td>2021-01-28</td>\n",
       "      <td>21:22</td>\n",
       "      <td>석봉동</td>\n",
       "      <td>1</td>\n",
       "      <td>1</td>\n",
       "      <td>28</td>\n",
       "      <td>21</td>\n",
       "    </tr>\n",
       "    <tr>\n",
       "      <th>1</th>\n",
       "      <td>2</td>\n",
       "      <td>2021-02-15</td>\n",
       "      <td>19:13</td>\n",
       "      <td>석봉동</td>\n",
       "      <td>1</td>\n",
       "      <td>2</td>\n",
       "      <td>15</td>\n",
       "      <td>19</td>\n",
       "    </tr>\n",
       "    <tr>\n",
       "      <th>2</th>\n",
       "      <td>3</td>\n",
       "      <td>2021-02-16</td>\n",
       "      <td>20:15</td>\n",
       "      <td>석봉동</td>\n",
       "      <td>1</td>\n",
       "      <td>2</td>\n",
       "      <td>16</td>\n",
       "      <td>20</td>\n",
       "    </tr>\n",
       "    <tr>\n",
       "      <th>3</th>\n",
       "      <td>4</td>\n",
       "      <td>2021-02-22</td>\n",
       "      <td>10:40</td>\n",
       "      <td>석봉동</td>\n",
       "      <td>1</td>\n",
       "      <td>2</td>\n",
       "      <td>22</td>\n",
       "      <td>10</td>\n",
       "    </tr>\n",
       "    <tr>\n",
       "      <th>4</th>\n",
       "      <td>5</td>\n",
       "      <td>2021-03-10</td>\n",
       "      <td>18:33</td>\n",
       "      <td>목상동</td>\n",
       "      <td>1</td>\n",
       "      <td>3</td>\n",
       "      <td>10</td>\n",
       "      <td>18</td>\n",
       "    </tr>\n",
       "    <tr>\n",
       "      <th>...</th>\n",
       "      <td>...</td>\n",
       "      <td>...</td>\n",
       "      <td>...</td>\n",
       "      <td>...</td>\n",
       "      <td>...</td>\n",
       "      <td>...</td>\n",
       "      <td>...</td>\n",
       "      <td>...</td>\n",
       "    </tr>\n",
       "    <tr>\n",
       "      <th>125</th>\n",
       "      <td>126</td>\n",
       "      <td>2021-11-08</td>\n",
       "      <td>19:48</td>\n",
       "      <td>석봉동</td>\n",
       "      <td>1</td>\n",
       "      <td>11</td>\n",
       "      <td>8</td>\n",
       "      <td>19</td>\n",
       "    </tr>\n",
       "    <tr>\n",
       "      <th>126</th>\n",
       "      <td>127</td>\n",
       "      <td>2021-11-10</td>\n",
       "      <td>21:05</td>\n",
       "      <td>석봉동</td>\n",
       "      <td>1</td>\n",
       "      <td>11</td>\n",
       "      <td>10</td>\n",
       "      <td>21</td>\n",
       "    </tr>\n",
       "    <tr>\n",
       "      <th>127</th>\n",
       "      <td>128</td>\n",
       "      <td>2021-11-22</td>\n",
       "      <td>14:50</td>\n",
       "      <td>석봉동</td>\n",
       "      <td>1</td>\n",
       "      <td>11</td>\n",
       "      <td>22</td>\n",
       "      <td>14</td>\n",
       "    </tr>\n",
       "    <tr>\n",
       "      <th>128</th>\n",
       "      <td>129</td>\n",
       "      <td>2021-12-06</td>\n",
       "      <td>22:51</td>\n",
       "      <td>문평동</td>\n",
       "      <td>1</td>\n",
       "      <td>12</td>\n",
       "      <td>6</td>\n",
       "      <td>22</td>\n",
       "    </tr>\n",
       "    <tr>\n",
       "      <th>129</th>\n",
       "      <td>130</td>\n",
       "      <td>2021-12-29</td>\n",
       "      <td>19:32</td>\n",
       "      <td>석봉동</td>\n",
       "      <td>1</td>\n",
       "      <td>12</td>\n",
       "      <td>29</td>\n",
       "      <td>19</td>\n",
       "    </tr>\n",
       "  </tbody>\n",
       "</table>\n",
       "<p>130 rows × 8 columns</p>\n",
       "</div>"
      ],
      "text/plain": [
       "      NO        발생일자     시간   주소  발생건수   월   일   시\n",
       "0      1  2021-01-28  21:22  석봉동     1   1  28  21\n",
       "1      2  2021-02-15  19:13  석봉동     1   2  15  19\n",
       "2      3  2021-02-16  20:15  석봉동     1   2  16  20\n",
       "3      4  2021-02-22  10:40  석봉동     1   2  22  10\n",
       "4      5  2021-03-10  18:33  목상동     1   3  10  18\n",
       "..   ...         ...    ...  ...   ...  ..  ..  ..\n",
       "125  126  2021-11-08  19:48  석봉동     1  11   8  19\n",
       "126  127  2021-11-10  21:05  석봉동     1  11  10  21\n",
       "127  128  2021-11-22  14:50  석봉동     1  11  22  14\n",
       "128  129  2021-12-06  22:51  문평동     1  12   6  22\n",
       "129  130  2021-12-29  19:32  석봉동     1  12  29  19\n",
       "\n",
       "[130 rows x 8 columns]"
      ]
     },
     "execution_count": 15,
     "metadata": {},
     "output_type": "execute_result"
    }
   ],
   "source": [
    "B_area"
   ]
  },
  {
   "cell_type": "code",
   "execution_count": 16,
   "id": "6835c146-1d40-4abc-816c-bbf55a0ef897",
   "metadata": {},
   "outputs": [],
   "source": [
    "B_df = pd.merge(B_air, B_area, on = ['월', '일','시'], how = \"left\")"
   ]
  },
  {
   "cell_type": "code",
   "execution_count": 17,
   "id": "e98748b1-8444-488d-b09a-f2bcbdbec3cf",
   "metadata": {},
   "outputs": [],
   "source": [
    "B_df = B_df.drop(['발생일자', '시간','주소','NO'], axis = 1)"
   ]
  },
  {
   "cell_type": "code",
   "execution_count": 18,
   "id": "5b0a7a3b-3897-4f6d-9b9c-a4c3e3a6ac88",
   "metadata": {},
   "outputs": [],
   "source": [
    "B_df = B_df.fillna(0)"
   ]
  },
  {
   "cell_type": "code",
   "execution_count": 19,
   "id": "09f3e633-8c0d-4acf-8653-7ed8e99797c6",
   "metadata": {},
   "outputs": [
    {
     "data": {
      "text/html": [
       "<div>\n",
       "<style scoped>\n",
       "    .dataframe tbody tr th:only-of-type {\n",
       "        vertical-align: middle;\n",
       "    }\n",
       "\n",
       "    .dataframe tbody tr th {\n",
       "        vertical-align: top;\n",
       "    }\n",
       "\n",
       "    .dataframe thead th {\n",
       "        text-align: right;\n",
       "    }\n",
       "</style>\n",
       "<table border=\"1\" class=\"dataframe\">\n",
       "  <thead>\n",
       "    <tr style=\"text-align: right;\">\n",
       "      <th></th>\n",
       "      <th>지역</th>\n",
       "      <th>일시</th>\n",
       "      <th>기온(°C)</th>\n",
       "      <th>습도(%)</th>\n",
       "      <th>풍속(m/s)</th>\n",
       "      <th>풍향(360°)</th>\n",
       "      <th>일사량(w/㎡)</th>\n",
       "      <th>PM10(㎍/㎥)</th>\n",
       "      <th>PM2.5(㎍/㎥)</th>\n",
       "      <th>오존(ppm)</th>\n",
       "      <th>증기압(hPa)</th>\n",
       "      <th>현지기압(hPa)</th>\n",
       "      <th>지면온도(°C)</th>\n",
       "      <th>30cm 지중온도(°C)</th>\n",
       "      <th>강수량(mm)</th>\n",
       "      <th>방향</th>\n",
       "      <th>월</th>\n",
       "      <th>일</th>\n",
       "      <th>시</th>\n",
       "      <th>발생건수</th>\n",
       "    </tr>\n",
       "  </thead>\n",
       "  <tbody>\n",
       "    <tr>\n",
       "      <th>0</th>\n",
       "      <td>B</td>\n",
       "      <td>2021-01-01 1:00</td>\n",
       "      <td>-8.4</td>\n",
       "      <td>89.4</td>\n",
       "      <td>1.6</td>\n",
       "      <td>49</td>\n",
       "      <td>1.1</td>\n",
       "      <td>40.0</td>\n",
       "      <td>22.0</td>\n",
       "      <td>0.002</td>\n",
       "      <td>3.0</td>\n",
       "      <td>1018.9</td>\n",
       "      <td>-6.5</td>\n",
       "      <td>3.0</td>\n",
       "      <td>0.0</td>\n",
       "      <td>동풍</td>\n",
       "      <td>1</td>\n",
       "      <td>1</td>\n",
       "      <td>1</td>\n",
       "      <td>0.0</td>\n",
       "    </tr>\n",
       "    <tr>\n",
       "      <th>1</th>\n",
       "      <td>B</td>\n",
       "      <td>2021-01-01 2:00</td>\n",
       "      <td>-8.3</td>\n",
       "      <td>88.3</td>\n",
       "      <td>0.9</td>\n",
       "      <td>46</td>\n",
       "      <td>1.1</td>\n",
       "      <td>44.0</td>\n",
       "      <td>18.0</td>\n",
       "      <td>0.002</td>\n",
       "      <td>3.0</td>\n",
       "      <td>1019.2</td>\n",
       "      <td>-6.8</td>\n",
       "      <td>2.9</td>\n",
       "      <td>0.0</td>\n",
       "      <td>동풍</td>\n",
       "      <td>1</td>\n",
       "      <td>1</td>\n",
       "      <td>2</td>\n",
       "      <td>0.0</td>\n",
       "    </tr>\n",
       "    <tr>\n",
       "      <th>2</th>\n",
       "      <td>B</td>\n",
       "      <td>2021-01-01 3:00</td>\n",
       "      <td>-8.6</td>\n",
       "      <td>87.4</td>\n",
       "      <td>0.8</td>\n",
       "      <td>40</td>\n",
       "      <td>1.1</td>\n",
       "      <td>42.0</td>\n",
       "      <td>23.0</td>\n",
       "      <td>0.002</td>\n",
       "      <td>2.9</td>\n",
       "      <td>1019.5</td>\n",
       "      <td>-7.1</td>\n",
       "      <td>2.9</td>\n",
       "      <td>0.0</td>\n",
       "      <td>북동풍</td>\n",
       "      <td>1</td>\n",
       "      <td>1</td>\n",
       "      <td>3</td>\n",
       "      <td>0.0</td>\n",
       "    </tr>\n",
       "    <tr>\n",
       "      <th>3</th>\n",
       "      <td>B</td>\n",
       "      <td>2021-01-01 4:00</td>\n",
       "      <td>-9.2</td>\n",
       "      <td>87.8</td>\n",
       "      <td>1.3</td>\n",
       "      <td>47</td>\n",
       "      <td>1.1</td>\n",
       "      <td>40.0</td>\n",
       "      <td>18.0</td>\n",
       "      <td>0.002</td>\n",
       "      <td>2.8</td>\n",
       "      <td>1019.5</td>\n",
       "      <td>-7.3</td>\n",
       "      <td>2.8</td>\n",
       "      <td>0.0</td>\n",
       "      <td>동풍</td>\n",
       "      <td>1</td>\n",
       "      <td>1</td>\n",
       "      <td>4</td>\n",
       "      <td>0.0</td>\n",
       "    </tr>\n",
       "    <tr>\n",
       "      <th>4</th>\n",
       "      <td>B</td>\n",
       "      <td>2021-01-01 5:00</td>\n",
       "      <td>-9.1</td>\n",
       "      <td>87.3</td>\n",
       "      <td>0.3</td>\n",
       "      <td>53</td>\n",
       "      <td>1.1</td>\n",
       "      <td>44.0</td>\n",
       "      <td>23.0</td>\n",
       "      <td>0.002</td>\n",
       "      <td>2.8</td>\n",
       "      <td>1019.0</td>\n",
       "      <td>-7.6</td>\n",
       "      <td>2.9</td>\n",
       "      <td>0.0</td>\n",
       "      <td>동풍</td>\n",
       "      <td>1</td>\n",
       "      <td>1</td>\n",
       "      <td>5</td>\n",
       "      <td>0.0</td>\n",
       "    </tr>\n",
       "    <tr>\n",
       "      <th>...</th>\n",
       "      <td>...</td>\n",
       "      <td>...</td>\n",
       "      <td>...</td>\n",
       "      <td>...</td>\n",
       "      <td>...</td>\n",
       "      <td>...</td>\n",
       "      <td>...</td>\n",
       "      <td>...</td>\n",
       "      <td>...</td>\n",
       "      <td>...</td>\n",
       "      <td>...</td>\n",
       "      <td>...</td>\n",
       "      <td>...</td>\n",
       "      <td>...</td>\n",
       "      <td>...</td>\n",
       "      <td>...</td>\n",
       "      <td>...</td>\n",
       "      <td>...</td>\n",
       "      <td>...</td>\n",
       "      <td>...</td>\n",
       "    </tr>\n",
       "    <tr>\n",
       "      <th>8409</th>\n",
       "      <td>B</td>\n",
       "      <td>2021-12-31 19:00</td>\n",
       "      <td>-3.9</td>\n",
       "      <td>46.3</td>\n",
       "      <td>0.8</td>\n",
       "      <td>343</td>\n",
       "      <td>1.1</td>\n",
       "      <td>23.0</td>\n",
       "      <td>1.0</td>\n",
       "      <td>0.029</td>\n",
       "      <td>1.9</td>\n",
       "      <td>1023.4</td>\n",
       "      <td>-3.9</td>\n",
       "      <td>2.3</td>\n",
       "      <td>0.0</td>\n",
       "      <td>북풍</td>\n",
       "      <td>12</td>\n",
       "      <td>31</td>\n",
       "      <td>19</td>\n",
       "      <td>0.0</td>\n",
       "    </tr>\n",
       "    <tr>\n",
       "      <th>8410</th>\n",
       "      <td>B</td>\n",
       "      <td>2021-12-31 20:00</td>\n",
       "      <td>-4.4</td>\n",
       "      <td>48.8</td>\n",
       "      <td>0.7</td>\n",
       "      <td>273</td>\n",
       "      <td>1.1</td>\n",
       "      <td>21.0</td>\n",
       "      <td>3.0</td>\n",
       "      <td>0.029</td>\n",
       "      <td>2.0</td>\n",
       "      <td>1023.7</td>\n",
       "      <td>-4.7</td>\n",
       "      <td>2.3</td>\n",
       "      <td>0.0</td>\n",
       "      <td>북서풍</td>\n",
       "      <td>12</td>\n",
       "      <td>31</td>\n",
       "      <td>20</td>\n",
       "      <td>0.0</td>\n",
       "    </tr>\n",
       "    <tr>\n",
       "      <th>8411</th>\n",
       "      <td>B</td>\n",
       "      <td>2021-12-31 21:00</td>\n",
       "      <td>-5.1</td>\n",
       "      <td>52.0</td>\n",
       "      <td>0.5</td>\n",
       "      <td>359</td>\n",
       "      <td>1.1</td>\n",
       "      <td>22.0</td>\n",
       "      <td>9.0</td>\n",
       "      <td>0.019</td>\n",
       "      <td>2.0</td>\n",
       "      <td>1023.5</td>\n",
       "      <td>-5.4</td>\n",
       "      <td>2.3</td>\n",
       "      <td>0.0</td>\n",
       "      <td>북풍</td>\n",
       "      <td>12</td>\n",
       "      <td>31</td>\n",
       "      <td>21</td>\n",
       "      <td>0.0</td>\n",
       "    </tr>\n",
       "    <tr>\n",
       "      <th>8412</th>\n",
       "      <td>B</td>\n",
       "      <td>2021-12-31 22:00</td>\n",
       "      <td>-5.9</td>\n",
       "      <td>61.6</td>\n",
       "      <td>0.5</td>\n",
       "      <td>278</td>\n",
       "      <td>1.1</td>\n",
       "      <td>19.0</td>\n",
       "      <td>12.0</td>\n",
       "      <td>0.016</td>\n",
       "      <td>2.1</td>\n",
       "      <td>1023.9</td>\n",
       "      <td>-6.0</td>\n",
       "      <td>2.3</td>\n",
       "      <td>0.0</td>\n",
       "      <td>북서풍</td>\n",
       "      <td>12</td>\n",
       "      <td>31</td>\n",
       "      <td>22</td>\n",
       "      <td>0.0</td>\n",
       "    </tr>\n",
       "    <tr>\n",
       "      <th>8413</th>\n",
       "      <td>B</td>\n",
       "      <td>2021-12-31 23:00</td>\n",
       "      <td>-6.7</td>\n",
       "      <td>70.9</td>\n",
       "      <td>0.9</td>\n",
       "      <td>350</td>\n",
       "      <td>1.1</td>\n",
       "      <td>17.0</td>\n",
       "      <td>8.0</td>\n",
       "      <td>0.016</td>\n",
       "      <td>2.2</td>\n",
       "      <td>1024.2</td>\n",
       "      <td>-6.5</td>\n",
       "      <td>2.3</td>\n",
       "      <td>0.0</td>\n",
       "      <td>북풍</td>\n",
       "      <td>12</td>\n",
       "      <td>31</td>\n",
       "      <td>23</td>\n",
       "      <td>0.0</td>\n",
       "    </tr>\n",
       "  </tbody>\n",
       "</table>\n",
       "<p>8414 rows × 20 columns</p>\n",
       "</div>"
      ],
      "text/plain": [
       "     지역                일시  기온(°C)  습도(%)  풍속(m/s)  풍향(360°)  일사량(w/㎡)  \\\n",
       "0     B   2021-01-01 1:00    -8.4   89.4      1.6        49       1.1   \n",
       "1     B   2021-01-01 2:00    -8.3   88.3      0.9        46       1.1   \n",
       "2     B   2021-01-01 3:00    -8.6   87.4      0.8        40       1.1   \n",
       "3     B   2021-01-01 4:00    -9.2   87.8      1.3        47       1.1   \n",
       "4     B   2021-01-01 5:00    -9.1   87.3      0.3        53       1.1   \n",
       "...  ..               ...     ...    ...      ...       ...       ...   \n",
       "8409  B  2021-12-31 19:00    -3.9   46.3      0.8       343       1.1   \n",
       "8410  B  2021-12-31 20:00    -4.4   48.8      0.7       273       1.1   \n",
       "8411  B  2021-12-31 21:00    -5.1   52.0      0.5       359       1.1   \n",
       "8412  B  2021-12-31 22:00    -5.9   61.6      0.5       278       1.1   \n",
       "8413  B  2021-12-31 23:00    -6.7   70.9      0.9       350       1.1   \n",
       "\n",
       "      PM10(㎍/㎥)  PM2.5(㎍/㎥)  오존(ppm)  증기압(hPa)  현지기압(hPa)  지면온도(°C)  \\\n",
       "0          40.0        22.0    0.002       3.0     1018.9      -6.5   \n",
       "1          44.0        18.0    0.002       3.0     1019.2      -6.8   \n",
       "2          42.0        23.0    0.002       2.9     1019.5      -7.1   \n",
       "3          40.0        18.0    0.002       2.8     1019.5      -7.3   \n",
       "4          44.0        23.0    0.002       2.8     1019.0      -7.6   \n",
       "...         ...         ...      ...       ...        ...       ...   \n",
       "8409       23.0         1.0    0.029       1.9     1023.4      -3.9   \n",
       "8410       21.0         3.0    0.029       2.0     1023.7      -4.7   \n",
       "8411       22.0         9.0    0.019       2.0     1023.5      -5.4   \n",
       "8412       19.0        12.0    0.016       2.1     1023.9      -6.0   \n",
       "8413       17.0         8.0    0.016       2.2     1024.2      -6.5   \n",
       "\n",
       "      30cm 지중온도(°C)  강수량(mm)   방향   월   일   시  발생건수  \n",
       "0               3.0      0.0   동풍   1   1   1   0.0  \n",
       "1               2.9      0.0   동풍   1   1   2   0.0  \n",
       "2               2.9      0.0  북동풍   1   1   3   0.0  \n",
       "3               2.8      0.0   동풍   1   1   4   0.0  \n",
       "4               2.9      0.0   동풍   1   1   5   0.0  \n",
       "...             ...      ...  ...  ..  ..  ..   ...  \n",
       "8409            2.3      0.0   북풍  12  31  19   0.0  \n",
       "8410            2.3      0.0  북서풍  12  31  20   0.0  \n",
       "8411            2.3      0.0   북풍  12  31  21   0.0  \n",
       "8412            2.3      0.0  북서풍  12  31  22   0.0  \n",
       "8413            2.3      0.0   북풍  12  31  23   0.0  \n",
       "\n",
       "[8414 rows x 20 columns]"
      ]
     },
     "execution_count": 19,
     "metadata": {},
     "output_type": "execute_result"
    }
   ],
   "source": [
    "B_df"
   ]
  },
  {
   "cell_type": "markdown",
   "id": "a9c0b02d-f878-42eb-a532-43d3e200a856",
   "metadata": {},
   "source": [
    "# C지역 전처리"
   ]
  },
  {
   "cell_type": "code",
   "execution_count": 20,
   "id": "39ce47be-0265-43ff-a38d-3bc11894348c",
   "metadata": {},
   "outputs": [
    {
     "name": "stdout",
     "output_type": "stream",
     "text": [
      "<class 'pandas.core.frame.DataFrame'>\n",
      "RangeIndex: 8759 entries, 0 to 8758\n",
      "Data columns (total 15 columns):\n",
      " #   Column         Non-Null Count  Dtype  \n",
      "---  ------         --------------  -----  \n",
      " 0   지역             8759 non-null   object \n",
      " 1   일시             8759 non-null   object \n",
      " 2   기온(°C)         8751 non-null   float64\n",
      " 3   습도(%)          8751 non-null   float64\n",
      " 4   풍속(m/s)        8751 non-null   float64\n",
      " 5   풍향(360°)       8751 non-null   float64\n",
      " 6   일사량(w/㎡)       8753 non-null   float64\n",
      " 7   PM10(㎍/㎥)      8597 non-null   float64\n",
      " 8   PM2.5(㎍/㎥)     8546 non-null   float64\n",
      " 9   오존(ppm)        8657 non-null   float64\n",
      " 10  증기압(hPa)       8759 non-null   float64\n",
      " 11  현지기압(hPa)      8759 non-null   float64\n",
      " 12  지면온도(°C)       8759 non-null   float64\n",
      " 13  30cm 지중온도(°C)  8759 non-null   float64\n",
      " 14  강수량(mm)        8759 non-null   float64\n",
      "dtypes: float64(13), object(2)\n",
      "memory usage: 1.0+ MB\n"
     ]
    }
   ],
   "source": [
    "C_air = pd.read_csv(\"C측정소_기상자료(1hr)_2021년.csv\", encoding='euc-kr')\n",
    "C_air.info()"
   ]
  },
  {
   "cell_type": "code",
   "execution_count": 21,
   "id": "1a74c273-11e0-4a74-981b-e54354272a64",
   "metadata": {},
   "outputs": [
    {
     "name": "stdout",
     "output_type": "stream",
     "text": [
      "<class 'pandas.core.frame.DataFrame'>\n",
      "RangeIndex: 33 entries, 0 to 32\n",
      "Data columns (total 5 columns):\n",
      " #   Column  Non-Null Count  Dtype \n",
      "---  ------  --------------  ----- \n",
      " 0   NO      33 non-null     int64 \n",
      " 1   발생일자    33 non-null     object\n",
      " 2   시간      33 non-null     object\n",
      " 3   주소      33 non-null     object\n",
      " 4   발생건수    33 non-null     int64 \n",
      "dtypes: int64(2), object(3)\n",
      "memory usage: 1.4+ KB\n"
     ]
    }
   ],
   "source": [
    "C_area = pd.read_csv(\"C관측소_시간별_민원발생건수.csv\", encoding='euc-kr')\n",
    "C_area.info()"
   ]
  },
  {
   "cell_type": "code",
   "execution_count": 22,
   "id": "a630540f-497e-4246-a2be-097878e3c1d2",
   "metadata": {},
   "outputs": [],
   "source": [
    "C_air = C_air.dropna(subset = ['풍향(360°)'])\n",
    "C_air['풍향(360°)'] = C_air['풍향(360°)'].astype(int)\n",
    "C_air['방향'] = C_air.apply(f, axis=1)"
   ]
  },
  {
   "cell_type": "code",
   "execution_count": 23,
   "id": "1ded6a58-49ba-4ed0-8334-5ae3aa3af723",
   "metadata": {},
   "outputs": [],
   "source": [
    "C_air['월'] = C_air['일시'].astype(str).str[5:7]\n",
    "C_air['일'] = C_air['일시'].astype(str).str[8:11]\n",
    "C_air['시'] = C_air['일시'].astype(str).str[10:13]"
   ]
  },
  {
   "cell_type": "code",
   "execution_count": 24,
   "id": "71cef87a-7637-4503-ad76-95fe1cd732b0",
   "metadata": {},
   "outputs": [],
   "source": [
    "C_air['시'] = C_air['시'].str.replace(':', '')\n",
    "C_air['시'] = C_air['시'].str.zfill(2)"
   ]
  },
  {
   "cell_type": "code",
   "execution_count": 25,
   "id": "53ca241b-c7b5-41ee-a5c7-6a3f3e9c94f2",
   "metadata": {},
   "outputs": [
    {
     "data": {
      "text/plain": [
       "0      21\n",
       "1      19\n",
       "2      20\n",
       "3      10\n",
       "4      18\n",
       "       ..\n",
       "125    19\n",
       "126    21\n",
       "127    14\n",
       "128    22\n",
       "129    19\n",
       "Name: 시간, Length: 130, dtype: object"
      ]
     },
     "execution_count": 25,
     "metadata": {},
     "output_type": "execute_result"
    }
   ],
   "source": [
    "B_area['시간'].astype(str).str[0:2]"
   ]
  },
  {
   "cell_type": "code",
   "execution_count": 26,
   "id": "aebe10fd-13c9-4e8e-93f1-a81972f8cce5",
   "metadata": {},
   "outputs": [],
   "source": [
    "C_area['월'] = C_area['발생일자'].astype(str).str[5:7]\n",
    "C_area['일'] = C_area['발생일자'].astype(str).str[8:11]\n",
    "C_area['시'] = C_area['시간'].astype(str).str[0:2]"
   ]
  },
  {
   "cell_type": "code",
   "execution_count": 27,
   "id": "2dacf7a7-b60b-4c52-9467-c856701b15b6",
   "metadata": {},
   "outputs": [],
   "source": [
    "C_area['시'] = C_area['시'].str.replace(':', '')\n",
    "C_area['월'] = C_area['월'].astype(int)\n",
    "C_area['일'] = C_area['일'].astype(int)\n",
    "C_area['시'] = C_area['시'].astype(int)\n",
    "C_air['월'] = C_air['월'].astype(int)\n",
    "C_air['일'] = C_air['일'].astype(int)\n",
    "C_air['시'] = C_air['시'].astype(int)"
   ]
  },
  {
   "cell_type": "code",
   "execution_count": 28,
   "id": "1761eaf3-47be-4010-b2c9-6f59d1d358f9",
   "metadata": {},
   "outputs": [],
   "source": [
    "C_df = pd.merge(C_air,C_area, on = ['월', '일','시'], how = \"left\")"
   ]
  },
  {
   "cell_type": "code",
   "execution_count": 29,
   "id": "e932d137-c0b5-4239-bc31-89bf548cd23c",
   "metadata": {},
   "outputs": [],
   "source": [
    "C_df = C_df.drop(['발생일자', '시간','주소','NO'], axis = 1)"
   ]
  },
  {
   "cell_type": "code",
   "execution_count": 30,
   "id": "ea8ea672-0be7-4b06-83e7-4022ff9484a2",
   "metadata": {},
   "outputs": [],
   "source": [
    "C_df = C_df.fillna(0)"
   ]
  },
  {
   "cell_type": "code",
   "execution_count": 31,
   "id": "7b3d160f-c8fd-4d66-828b-c40c2c0eea70",
   "metadata": {},
   "outputs": [],
   "source": [
    "g = C_df.groupby([\"방향\"])[\"발생건수\"].sum().sort_values(ascending = False)"
   ]
  },
  {
   "cell_type": "code",
   "execution_count": 32,
   "id": "4eb7a5d8-d597-4f03-a489-1eee8cb4e00c",
   "metadata": {},
   "outputs": [
    {
     "data": {
      "text/plain": [
       "<AxesSubplot:xlabel='방향'>"
      ]
     },
     "execution_count": 32,
     "metadata": {},
     "output_type": "execute_result"
    },
    {
     "data": {
      "image/png": "[encoded data removed]",
      "text/plain": [
       "<Figure size 500x300 with 1 Axes>"
      ]
     },
     "metadata": {},
     "output_type": "display_data"
    }
   ],
   "source": [
    "g.plot.bar(rot=0, figsize = (5,3),color= [\"#eb8060\", \"#b9e38d\", \"#a1e9f0\", \"#d9b1f0\" ,\"gray\", \"lightgray\", \"skyblue\", \"black\"])"
   ]
  },
  {
   "cell_type": "code",
   "execution_count": null,
   "id": "236b80d0-7131-4a09-8fe9-620259d45756",
   "metadata": {},
   "outputs": [],
   "source": []
  },
  {
   "cell_type": "code",
   "execution_count": null,
   "id": "4389b558-afca-4aaa-8092-aef975f92b95",
   "metadata": {},
   "outputs": [],
   "source": []
  }
 ],
 "metadata": {
  "kernelspec": {
   "display_name": "Python 3 (ipykernel)",
   "language": "python",
   "name": "python3"
  },
  "language_info": {
   "codemirror_mode": {
    "name": "ipython",
    "version": 3
   },
   "file_extension": ".py",
   "mimetype": "text/x-python",
   "name": "python",
   "nbconvert_exporter": "python",
   "pygments_lexer": "ipython3",
   "version": "3.9.13"
  }
 },
 "nbformat": 4,
 "nbformat_minor": 5
}
